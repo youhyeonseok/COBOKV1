{
 "cells": [
  {
   "cell_type": "code",
   "execution_count": null,
   "metadata": {},
   "outputs": [],
   "source": [
    "from bs4 import BeautifulSoup\n",
    "from selenium import webdriver\n",
    "import requests\n",
    "import pandas as pd"
   ]
  },
  {
   "cell_type": "code",
   "execution_count": null,
   "metadata": {},
   "outputs": [],
   "source": [
    "# 페이지의 단일 element에 접근하는 메소드,\n",
    "\n",
    "# find_element_by_name('HTML_name')\n",
    "# find_element_by_id('HTML_id')\n",
    "# find_element_by_xpath('/html/body/some/xpath')\n",
    "# find_element_by_css_selector('#css > div.selector')\n",
    "# find_element_by_class_name('some_class_name')\n",
    "# find_element_by_tag_name('h1')"
   ]
  },
  {
   "cell_type": "code",
   "execution_count": null,
   "metadata": {},
   "outputs": [],
   "source": [
    "urls = \"http://upbit.com/trends\"\n",
    "re = requests.get(urls)\n",
    "type(re.text)"
   ]
  },
  {
   "cell_type": "code",
   "execution_count": null,
   "metadata": {},
   "outputs": [],
   "source": [
    "urls = \"http://upbit.com/trends\"\n",
    "driver = webdriver.Chrome('/Users/yuhyeonseog/개인 작업/javascript/study_project/backend/crawling/chromedriver')\n",
    "driver.get(urls)"
   ]
  },
  {
   "cell_type": "code",
   "execution_count": null,
   "metadata": {},
   "outputs": [],
   "source": [
    "category_xpath = [\n",
    "    '//*[@id=\"UpbitLayout\"]/div[3]/div/div[1]/div[3]/div[1]/ul/li[1]/a',\n",
    "    '//*[@id=\"UpbitLayout\"]/div[3]/div/div[1]/div[3]/div[1]/ul/li[2]/a',\n",
    "    '//*[@id=\"UpbitLayout\"]/div[3]/div/div[1]/div[3]/div[1]/ul/li[3]/a',\n",
    "    '//*[@id=\"UpbitLayout\"]/div[3]/div/div[1]/div[3]/div[1]/ul/li[4]/a',\n",
    "    '//*[@id=\"UpbitLayout\"]/div[3]/div/div[1]/div[3]/div[1]/ul/li[5]/a'\n",
    "]\n",
    "page_xpath = '//*[@id=\"UpbitLayout\"]/div[3]/div/div[1]/div[3]/div[2]/div/div[2]/a[2]'\n",
    "news_name, news_href = [],[]\n",
    "for category in category_xpath:\n",
    "    name_line = []\n",
    "    href_line = []\n",
    "    driver.find_element_by_xpath(category).click()\n",
    "    for i in range(5):\n",
    "        driver.find_element_by_xpath(page_xpath).click()\n",
    "        source = driver.page_source\n",
    "        soup = BeautifulSoup(source,'html.parser')\n",
    "        news_table = soup.select_one('#UpbitLayout > div:nth-child(4) > div > div.CoinTrend__LeftSide > div:nth-child(3) > div.CoinNews > ul.CoinNews__TitleArticle')\n",
    "        for line in news_table.find_all('a'):\n",
    "            name_line.append(line.get_text())\n",
    "            href_line.append(line['href'])\n",
    "        news_name.append(name_line)\n",
    "        news_href.append(href_line)\n",
    "news_name, news_href"
   ]
  },
  {
   "cell_type": "code",
   "execution_count": null,
   "metadata": {},
   "outputs": [],
   "source": [
    "source = driver.page_source\n",
    "soup = BeautifulSoup(source,'html.parser')\n",
    "news_table = soup.select_one('#UpbitLayout > div:nth-child(4) > div > div.CoinTrend__LeftSide > div:nth-child(3) > div.CoinNews > ul.CoinNews__TitleArticle')\n",
    "news_name, news_href = [],[]\n",
    "for line in news_table.find_all('a'):\n",
    "    news_name.append(line.get_text())\n",
    "    news_href.append(line['href'])\n",
    "news_name,news_href"
   ]
  },
  {
   "cell_type": "code",
   "execution_count": null,
   "metadata": {},
   "outputs": [],
   "source": [
    "news_table.find_all('a')[0]['href']"
   ]
  },
  {
   "cell_type": "code",
   "execution_count": 79,
   "metadata": {},
   "outputs": [],
   "source": [
    "import psycopg2\n",
    "host = 'database-4.cyyrt9e5hsme.ap-northeast-2.rds.amazonaws.com'\n",
    "port = '3306'\n",
    "username = 'admin'\n",
    "database = 'test'\n",
    "password = '825582qaz'"
   ]
  },
  {
   "cell_type": "code",
   "execution_count": 80,
   "metadata": {},
   "outputs": [
    {
     "ename": "OperationalError",
     "evalue": "connection to server at \"database-4.cyyrt9e5hsme.ap-northeast-2.rds.amazonaws.com\" (15.164.17.122), port 5432 failed: received invalid response to SSL negotiation: J\n",
     "output_type": "error",
     "traceback": [
      "\u001b[0;31m---------------------------------------------------------------------------\u001b[0m",
      "\u001b[0;31mOperationalError\u001b[0m                          Traceback (most recent call last)",
      "\u001b[1;32m/Users/yuhyeonseog/개인 작업/javascript/study_project/backend/crawling/Untitled-1.ipynb Cell 9'\u001b[0m in \u001b[0;36m<cell line: 1>\u001b[0;34m()\u001b[0m\n\u001b[0;32m----> <a href='vscode-notebook-cell:/Users/yuhyeonseog/%EA%B0%9C%EC%9D%B8%20%EC%9E%91%EC%97%85/javascript/study_project/backend/crawling/Untitled-1.ipynb#ch0000008?line=0'>1</a>\u001b[0m connection \u001b[39m=\u001b[39m psycopg2\u001b[39m.\u001b[39;49mconnect(host\u001b[39m=\u001b[39;49mhost, dbname\u001b[39m=\u001b[39;49mdatabase, user\u001b[39m=\u001b[39;49musername, password\u001b[39m=\u001b[39;49mpassword)\n\u001b[1;32m      <a href='vscode-notebook-cell:/Users/yuhyeonseog/%EA%B0%9C%EC%9D%B8%20%EC%9E%91%EC%97%85/javascript/study_project/backend/crawling/Untitled-1.ipynb#ch0000008?line=1'>2</a>\u001b[0m cur \u001b[39m=\u001b[39m connection\u001b[39m.\u001b[39mcursor()\n\u001b[1;32m      <a href='vscode-notebook-cell:/Users/yuhyeonseog/%EA%B0%9C%EC%9D%B8%20%EC%9E%91%EC%97%85/javascript/study_project/backend/crawling/Untitled-1.ipynb#ch0000008?line=2'>3</a>\u001b[0m cur\n",
      "File \u001b[0;32m/Library/Frameworks/Python.framework/Versions/3.10/lib/python3.10/site-packages/psycopg2/__init__.py:122\u001b[0m, in \u001b[0;36mconnect\u001b[0;34m(dsn, connection_factory, cursor_factory, **kwargs)\u001b[0m\n\u001b[1;32m    <a href='file:///Library/Frameworks/Python.framework/Versions/3.10/lib/python3.10/site-packages/psycopg2/__init__.py?line=118'>119</a>\u001b[0m     kwasync[\u001b[39m'\u001b[39m\u001b[39masync_\u001b[39m\u001b[39m'\u001b[39m] \u001b[39m=\u001b[39m kwargs\u001b[39m.\u001b[39mpop(\u001b[39m'\u001b[39m\u001b[39masync_\u001b[39m\u001b[39m'\u001b[39m)\n\u001b[1;32m    <a href='file:///Library/Frameworks/Python.framework/Versions/3.10/lib/python3.10/site-packages/psycopg2/__init__.py?line=120'>121</a>\u001b[0m dsn \u001b[39m=\u001b[39m _ext\u001b[39m.\u001b[39mmake_dsn(dsn, \u001b[39m*\u001b[39m\u001b[39m*\u001b[39mkwargs)\n\u001b[0;32m--> <a href='file:///Library/Frameworks/Python.framework/Versions/3.10/lib/python3.10/site-packages/psycopg2/__init__.py?line=121'>122</a>\u001b[0m conn \u001b[39m=\u001b[39m _connect(dsn, connection_factory\u001b[39m=\u001b[39;49mconnection_factory, \u001b[39m*\u001b[39;49m\u001b[39m*\u001b[39;49mkwasync)\n\u001b[1;32m    <a href='file:///Library/Frameworks/Python.framework/Versions/3.10/lib/python3.10/site-packages/psycopg2/__init__.py?line=122'>123</a>\u001b[0m \u001b[39mif\u001b[39;00m cursor_factory \u001b[39mis\u001b[39;00m \u001b[39mnot\u001b[39;00m \u001b[39mNone\u001b[39;00m:\n\u001b[1;32m    <a href='file:///Library/Frameworks/Python.framework/Versions/3.10/lib/python3.10/site-packages/psycopg2/__init__.py?line=123'>124</a>\u001b[0m     conn\u001b[39m.\u001b[39mcursor_factory \u001b[39m=\u001b[39m cursor_factory\n",
      "\u001b[0;31mOperationalError\u001b[0m: connection to server at \"database-4.cyyrt9e5hsme.ap-northeast-2.rds.amazonaws.com\" (15.164.17.122), port 5432 failed: received invalid response to SSL negotiation: J\n"
     ]
    }
   ],
   "source": [
    "connection = psycopg2.connect(host=host, dbname=database, user=username, password=password)\n",
    "cur = connection.cursor()\n",
    "cur"
   ]
  },
  {
   "cell_type": "code",
   "execution_count": null,
   "metadata": {},
   "outputs": [],
   "source": []
  }
 ],
 "metadata": {
  "interpreter": {
   "hash": "aee8b7b246df8f9039afb4144a1f6fd8d2ca17a180786b69acc140d282b71a49"
  },
  "kernelspec": {
   "display_name": "Python 3.10.0 64-bit",
   "language": "python",
   "name": "python3"
  },
  "language_info": {
   "codemirror_mode": {
    "name": "ipython",
    "version": 3
   },
   "file_extension": ".py",
   "mimetype": "text/x-python",
   "name": "python",
   "nbconvert_exporter": "python",
   "pygments_lexer": "ipython3",
   "version": "3.10.0"
  },
  "orig_nbformat": 4
 },
 "nbformat": 4,
 "nbformat_minor": 2
}
